{
 "cells": [
  {
   "cell_type": "markdown",
   "id": "f4b5ae8e-8f45-4aeb-80f0-544118033023",
   "metadata": {},
   "source": [
    "# Central Pattern Generator for control of quadruped robot"
   ]
  },
  {
   "cell_type": "markdown",
   "id": "a4df92ee-7d98-42f5-b42c-23e61eaac48d",
   "metadata": {},
   "source": [
    "This is part 1 of the Legged robot course's project \\#2. We will focus on implementing a montion controller based on a Central Pattern Generato (CPG)."
   ]
  },
  {
   "cell_type": "markdown",
   "id": "26929dac-c1da-4709-9f53-79bfc9cd2756",
   "metadata": {},
   "source": [
    "# Importing the required libraries"
   ]
  },
  {
   "cell_type": "code",
   "execution_count": 1,
   "id": "856e0a99-d5db-4fbb-aa3e-a515750f35ad",
   "metadata": {},
   "outputs": [],
   "source": [
    "#In the following we import the classes that we need for simulation\n",
    "import time\n",
    "import pybullet #pybullet simulator\n",
    "import pybullet_data\n",
    "import numpy as np # numpy library for matrix computatios\n",
    "\n",
    "# import env.quadruped_motor as quadruped_motor\n",
    "from env.quadruped import Quadruped # Quadruped class\n",
    "import env.configs_a1 as robot_config \n",
    "\n",
    "%load_ext autoreload\n",
    "%autoreload 2"
   ]
  },
  {
   "cell_type": "code",
   "execution_count": 2,
   "id": "9e79afa1-756d-4ab1-a3c9-66a6b8fe70bc",
   "metadata": {},
   "outputs": [],
   "source": [
    "#In the following we create an object of dynamic engine of pybullet and we connect it to the Pybullet GUI\n",
    "# pybullet.disconnect()\n",
    "pybullet_client = pybullet.connect(pybullet.GUI)\n",
    "\n",
    "# pybullet.setAdditionalSearchPath(pybullet_data.getDataPath()) # TODO: Not needed ?"
   ]
  },
  {
   "cell_type": "code",
   "execution_count": 3,
   "id": "e503e875-ab69-44a9-8ae0-b423710d9df7",
   "metadata": {},
   "outputs": [],
   "source": [
    "# Here we load the robot in the default position\n",
    "robot = Quadruped(pybullet_client=pybullet,\n",
    "                   robot_config=robot_config,\n",
    "                   self_collision_enabled=True,\n",
    "                   accurate_motor_model_enabled=True,\n",
    "                   motor_control_mode=\"PD\",\n",
    "                   on_rack=False,\n",
    "                   render=False)"
   ]
  },
  {
   "cell_type": "code",
   "execution_count": null,
   "id": "3d7d3128-dbfd-4c68-9f40-c26d32de2049",
   "metadata": {},
   "outputs": [],
   "source": []
  },
  {
   "cell_type": "code",
   "execution_count": null,
   "id": "e0bd73e1-d8b6-4eeb-a6f9-947094ed4c0c",
   "metadata": {},
   "outputs": [],
   "source": []
  },
  {
   "cell_type": "code",
   "execution_count": null,
   "id": "a913aa6c-fa36-4895-9fee-56c0e49395aa",
   "metadata": {},
   "outputs": [],
   "source": []
  },
  {
   "cell_type": "code",
   "execution_count": null,
   "id": "d53a9302-439e-4d6a-b530-49ee3e3606e9",
   "metadata": {},
   "outputs": [],
   "source": []
  },
  {
   "cell_type": "code",
   "execution_count": null,
   "id": "2ca53cdd-a0d8-411a-b39b-8dd108bf0ae2",
   "metadata": {},
   "outputs": [],
   "source": [
    "# time.sleep(2)\n",
    "pybullet.disconnect()"
   ]
  },
  {
   "cell_type": "code",
   "execution_count": null,
   "id": "f4fcec58-7981-41e0-a54f-45c1ac378493",
   "metadata": {},
   "outputs": [],
   "source": []
  }
 ],
 "metadata": {
  "kernelspec": {
   "display_name": "Python 3",
   "language": "python",
   "name": "python3"
  },
  "language_info": {
   "codemirror_mode": {
    "name": "ipython",
    "version": 3
   },
   "file_extension": ".py",
   "mimetype": "text/x-python",
   "name": "python",
   "nbconvert_exporter": "python",
   "pygments_lexer": "ipython3",
   "version": "3.9.7"
  }
 },
 "nbformat": 4,
 "nbformat_minor": 5
}
