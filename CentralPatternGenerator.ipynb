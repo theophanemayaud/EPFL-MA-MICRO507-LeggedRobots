{
 "cells": [
  {
   "cell_type": "markdown",
   "id": "f4b5ae8e-8f45-4aeb-80f0-544118033023",
   "metadata": {},
   "source": [
    "# Central Pattern Generator for control of quadruped robot"
   ]
  },
  {
   "cell_type": "markdown",
   "id": "a4df92ee-7d98-42f5-b42c-23e61eaac48d",
   "metadata": {},
   "source": [
    "This is part 1 of the Legged robot course's project \\#2. We will focus on implementing a montion controller based on a Central Pattern Generato (CPG)."
   ]
  },
  {
   "cell_type": "markdown",
   "id": "26929dac-c1da-4709-9f53-79bfc9cd2756",
   "metadata": {},
   "source": [
    "## Importing the required libraries"
   ]
  },
  {
   "cell_type": "code",
   "execution_count": 1,
   "id": "856e0a99-d5db-4fbb-aa3e-a515750f35ad",
   "metadata": {},
   "outputs": [],
   "source": [
    "import time\n",
    "import numpy as np # numpy library for matrix computatios\n",
    "from matplotlib import pyplot as plt\n",
    "\n",
    "from env.quadruped_gym_env import QuadrupedGymEnv\n",
    "from hopf_network import HopfNetwork\n",
    "\n",
    "%load_ext autoreload\n",
    "%autoreload 2"
   ]
  },
  {
   "cell_type": "markdown",
   "id": "1f07331b-9a8d-44ac-b803-6c0470cee111",
   "metadata": {},
   "source": [
    "## Note on this notebook vs the hopf_network module\n",
    "\n",
    "Instead of directly implementing the simulation in the hopf_network module's default function __\\_\\_main\\_\\___, we will work it out here in this current notebook. \n",
    "\n",
    "This will enable us to test different parameters, perform different graphs, in a reproducible and illustrated step by step fashion. The steps will be explained as needed. \n",
    "\n",
    "Finally, we will move the chosen parameters and code to the hopf_network module's default function __\\_\\_main\\_\\___, such that it is a standalone module. "
   ]
  },
  {
   "cell_type": "code",
   "execution_count": 2,
   "id": "9e79afa1-756d-4ab1-a3c9-66a6b8fe70bc",
   "metadata": {},
   "outputs": [
    {
     "name": "stderr",
     "output_type": "stream",
     "text": [
      "/usr/local/lib/python3.9/site-packages/gym/logger.py:34: UserWarning: \u001b[33mWARN: Box bound precision lowered by casting to float32\u001b[0m\n",
      "  warnings.warn(colorize(\"%s: %s\" % (\"WARN\", msg % args), \"yellow\"))\n"
     ]
    }
   ],
   "source": [
    "# Initialise dynamic engine of pybullet and we connect it to the Pybullet GUI\n",
    "ADD_CARTESIAN_PD = True\n",
    "TIME_STEP = 0.001\n",
    "foot_y = 0.0838 # this is the hip length \n",
    "sideSign = np.array([-1, 1, -1, 1]) # get correct hip sign (body right is negative)\n",
    "\n",
    "env = QuadrupedGymEnv(\n",
    "                  render=True,              # visualize\n",
    "                  on_rack=False,              # useful for debugging! \n",
    "                  isRLGymInterface=False,     # not using RL\n",
    "                  time_step=TIME_STEP,\n",
    "                  action_repeat=1,\n",
    "                  motor_control_mode=\"TORQUE\",\n",
    "                  add_noise=False,    # start in ideal conditions\n",
    "                  # record_video=True\n",
    "                  )"
   ]
  },
  {
   "cell_type": "code",
   "execution_count": 3,
   "id": "059b28c6-d08a-4db5-b595-3e9862dbc8f5",
   "metadata": {},
   "outputs": [
    {
     "name": "stdout",
     "output_type": "stream",
     "text": [
      "TROT\n",
      "[[ 0.  -0.5 -0.5  0. ]\n",
      " [ 0.5  0.   0.   0.5]\n",
      " [ 0.5  0.   0.   0.5]\n",
      " [ 0.  -0.5 -0.5  0. ]]\n",
      "PACE\n",
      "[[ 0.  -0.5  0.  -0.5]\n",
      " [ 0.5  0.   0.5  0. ]\n",
      " [ 0.  -0.5  0.  -0.5]\n",
      " [ 0.5  0.   0.5  0. ]]\n",
      "BOUND\n",
      "[[ 0.   0.  -0.5 -0.5]\n",
      " [ 0.   0.  -0.5 -0.5]\n",
      " [ 0.5  0.5  0.   0. ]\n",
      " [ 0.5  0.5  0.   0. ]]\n",
      "WALK\n",
      "[[ 0.   -0.5  -0.25  0.25]\n",
      " [ 0.5   0.    0.25  0.75]\n",
      " [ 0.25 -0.25  0.    0.5 ]\n",
      " [-0.25 -0.75 -0.5   0.  ]]\n"
     ]
    }
   ],
   "source": [
    "# After implementing the gait offsets, let's check that everything looks ok (divide by 2pi for clarity)\n",
    "# initialize Hopf Network, supply gait\n",
    "print(HopfNetwork(gait=\"TROT\").PHI/(2*np.pi))\n",
    "print(HopfNetwork(gait=\"PACE\").PHI/(2*np.pi))\n",
    "print(HopfNetwork(gait=\"BOUND\").PHI/(2*np.pi))\n",
    "print(HopfNetwork(gait=\"WALK\").PHI/(2*np.pi))"
   ]
  },
  {
   "cell_type": "markdown",
   "id": "88a9fce7-97ca-42a9-aedc-ca5cb20505a1",
   "metadata": {},
   "source": [
    "Which seems right !"
   ]
  },
  {
   "cell_type": "code",
   "execution_count": 4,
   "id": "eed20d01-b3ab-405a-9c1f-746232502e33",
   "metadata": {},
   "outputs": [],
   "source": [
    "# Testing the simulation works, the robot does move according to gravity and small torques...\n",
    "env.reset()\n",
    "for i in range(1000):\n",
    "    env.step(action = np.zeros(12) + 5 ) "
   ]
  },
  {
   "cell_type": "markdown",
   "id": "bd58b83c-82ed-45bf-9cfa-1fb4e49fc185",
   "metadata": {},
   "source": [
    "Everything seems to work fine, although there were troubles at the beginning on macOS because of pyqt5."
   ]
  },
  {
   "cell_type": "markdown",
   "id": "81fde973-ad7f-4df1-a4f6-01b424cee253",
   "metadata": {},
   "source": [
    "## Updating the oscillators' states\n",
    "\n",
    "We will now work on implementing the _integrate_hopf_equations_ method of the HopfNetwork, where we will update the states of the oscillators for each leg : the current aplitudes and phases of each, which we'll later use, mapping them to robot coordinates."
   ]
  },
  {
   "cell_type": "code",
   "execution_count": 5,
   "id": "15c23c98-67ec-4934-a8b9-62cfbf512dca",
   "metadata": {},
   "outputs": [
    {
     "name": "stdout",
     "output_type": "stream",
     "text": [
      "PACE\n",
      "\n",
      "Osccillator state before : \n",
      "[[ 0.00897226  0.0371371   0.03609285  0.08975543]\n",
      " [ 0.         -3.14159265  0.         -3.14159265]]\n",
      "\n",
      "Osccillator state after one integration : \n",
      "[[0.00942084 0.03899139 0.03789514 0.09420705]\n",
      " [0.00628319 3.14787584 0.00628319 3.14787584]]\n",
      "\n",
      "Osccillator state after many integrations : \n",
      "[[1.         1.         1.         1.        ]\n",
      " [0.00628319 3.14787584 0.00628319 3.14787584]]\n"
     ]
    }
   ],
   "source": [
    "int_cpg = HopfNetwork(gait=\"PACE\")\n",
    "int_X = np.array([int_cpg.X])\n",
    "print(f\"\\nOsccillator state before : \\n{int_cpg.X}\")\n",
    "int_cpg._integrate_hopf_equations()\n",
    "int_X = np.append(int_X, [int_cpg.X], axis=0)\n",
    "print(f\"\\nOsccillator state after one integration : \\n{int_cpg.X}\")\n",
    "for i in range(2000):\n",
    "    int_cpg._integrate_hopf_equations()\n",
    "    int_X = np.append(int_X, [int_cpg.X], axis=0)\n",
    "print(f\"\\nOsccillator state after many integrations : \\n{int_cpg.X}\")"
   ]
  },
  {
   "cell_type": "markdown",
   "id": "dbe4c618-4c19-4f1e-b891-dec8624c2619",
   "metadata": {},
   "source": [
    "Let's look at it in plots :"
   ]
  },
  {
   "cell_type": "code",
   "execution_count": 6,
   "id": "4b8cbc40-86cd-4a2d-a577-79b73e2471db",
   "metadata": {},
   "outputs": [
    {
     "data": {
      "image/png": "[encoded data removed]",
      "text/plain": [
       "<Figure size 432x288 with 8 Axes>"
      ]
     },
     "metadata": {
      "needs_background": "light"
     },
     "output_type": "display_data"
    }
   ],
   "source": [
    "x = range(int_X.shape[0])\n",
    "\n",
    "fig, axs = plt.subplots(2, 4, sharex=True, sharey='row')\n",
    "\n",
    "axs[0, 0].plot(x, int_X[:,0,0])\n",
    "axs[0, 0].set_title(\"r0\")\n",
    "axs[0, 1].plot(x, int_X[:,0,1])\n",
    "axs[0, 1].set_title(\"r1\")\n",
    "axs[0, 2].plot(x, int_X[:,0,2])\n",
    "axs[0, 2].set_title(\"r2\")\n",
    "axs[0, 3].plot(x, int_X[:,0,3])\n",
    "axs[0, 3].set_title(\"r3\")\n",
    "\n",
    "axs[1, 0].plot(x, int_X[:,1,0])\n",
    "axs[1, 0].set_title(\"θ0\")\n",
    "axs[1, 1].plot(x, int_X[:,1,1])\n",
    "axs[1, 1].set_title(\"θ1\")\n",
    "axs[1, 2].plot(x, int_X[:,1,2])\n",
    "axs[1, 2].set_title(\"θ2\")\n",
    "axs[1, 3].plot(x, int_X[:,1,3])\n",
    "axs[1, 3].set_title(\"θ3\");"
   ]
  },
  {
   "cell_type": "markdown",
   "id": "b49f9f85-5489-4fa5-9754-8108dcd193ee",
   "metadata": {},
   "source": [
    "We can check that indeed the oscillator phases respect the gait timing. This looks ok."
   ]
  },
  {
   "cell_type": "markdown",
   "id": "d6ed8edb-c315-4974-a958-9c753fb328c2",
   "metadata": {},
   "source": [
    "# TO BE CONTINUED"
   ]
  },
  {
   "cell_type": "code",
   "execution_count": null,
   "id": "d2e596b7-a37d-4644-af78-fec81a40d37d",
   "metadata": {},
   "outputs": [],
   "source": [
    "# initialize Hopf Network, supply gait\n",
    "cpg = HopfNetwork(\n",
    "                mu=1**2,                # converge to sqrt(mu)\n",
    "                omega_swing=1*2*np.pi,  # MUST EDIT\n",
    "                omega_stance=1*2*np.pi, # MUST EDIT\n",
    "                gait=\"TROT\",            # change depending on desired gait\n",
    "                coupling_strength=1,    # coefficient to multiply coupling matrix\n",
    "                couple=True,            # should couple\n",
    "                time_step=TIME_STEP,        # time step \n",
    "                ground_clearance=0.05,  # foot swing height \n",
    "                ground_penetration=0.01,# foot stance penetration into ground \n",
    "                robot_height=0.25,      # in nominal case (standing) \n",
    "                des_step_len=0.04      # desired step length \n",
    "                )\n",
    "\n",
    "TEST_STEPS = int(10 / (TIME_STEP))\n",
    "t = np.arange(TEST_STEPS)*TIME_STEP\n",
    "\n",
    "# [TODO] initialize data structures to save CPG and robot states\n",
    "\n"
   ]
  },
  {
   "cell_type": "code",
   "execution_count": null,
   "id": "4279f022-28ae-4ca9-8586-b809b5b39f31",
   "metadata": {},
   "outputs": [],
   "source": [
    "############## Sample Gains\n",
    "# joint PD gains\n",
    "kp=np.array([150,70,70])\n",
    "kd=np.array([2,0.5,0.5])\n",
    "# Cartesian PD gains\n",
    "kpCartesian = np.diag([2500]*3)\n",
    "kdCartesian = np.diag([40]*3)\n",
    "\n",
    "\n",
    "for j in range(TEST_STEPS):\n",
    "    # initialize torque array to send to motors\n",
    "    action = np.zeros(12) \n",
    "    # get desired foot positions from CPG \n",
    "    xs,zs = cpg.update()\n",
    "    # [TODO] get current motor angles and velocities for joint PD, see GetMotorAngles(), GetMotorVelocities() in quadruped.py\n",
    "    # q = \n",
    "    # dq = \n",
    "    \n",
    "    # loop through desired foot positions and calculate torques\n",
    "    for i in range(4):\n",
    "        # initialize torques for legi\n",
    "        tau = np.zeros(3)\n",
    "        # get desired foot i pos (xi, yi, zi) in leg frame\n",
    "        leg_xyz = np.array([xs[i],sideSign[i] * foot_y,zs[i]])\n",
    "        # call inverse kinematics to get corresponding joint angles (see ComputeInverseKinematics() in quadruped.py)\n",
    "        leg_q = np.zeros(3) # [TODO] \n",
    "        # Add joint PD contribution to tau for leg i (Equation 4)\n",
    "        tau += np.zeros(3) # [TODO] \n",
    "        \n",
    "        # add Cartesian PD contribution\n",
    "        if ADD_CARTESIAN_PD:\n",
    "            # Get current Jacobian and foot position in leg frame (see ComputeJacobianAndPosition() in quadruped.py)\n",
    "            # [TODO] \n",
    "            # Get current foot velocity in leg frame (Equation 2)\n",
    "            # [TODO] \n",
    "            # Calculate torque contribution from Cartesian PD (Equation 5) [Make sure you are using matrix multiplications]\n",
    "            tau += np.zeros(3) # [TODO]\n",
    "        \n",
    "        # Set tau for legi in action vector\n",
    "        action[3*i:3*i+3] = tau\n",
    "    \n",
    "    # send torques to robot and simulate TIME_STEP seconds \n",
    "    env.step(action) \n",
    "    \n",
    "    # [TODO] save any CPG or robot states\n",
    "    "
   ]
  },
  {
   "cell_type": "code",
   "execution_count": null,
   "id": "e503e875-ab69-44a9-8ae0-b423710d9df7",
   "metadata": {},
   "outputs": [],
   "source": [
    "##################################################### \n",
    "# PLOTS\n",
    "#####################################################\n",
    "# example\n",
    "# fig = plt.figure()\n",
    "# plt.plot(t,joint_pos[1,:], label='FR thigh')\n",
    "# plt.legend()\n",
    "# plt.show()"
   ]
  },
  {
   "cell_type": "code",
   "execution_count": null,
   "id": "d53a9302-439e-4d6a-b530-49ee3e3606e9",
   "metadata": {},
   "outputs": [],
   "source": []
  },
  {
   "cell_type": "code",
   "execution_count": null,
   "id": "2ca53cdd-a0d8-411a-b39b-8dd108bf0ae2",
   "metadata": {},
   "outputs": [],
   "source": [
    "# time.sleep(2)\n",
    "pybullet.disconnect()"
   ]
  },
  {
   "cell_type": "code",
   "execution_count": null,
   "id": "f4fcec58-7981-41e0-a54f-45c1ac378493",
   "metadata": {},
   "outputs": [],
   "source": []
  }
 ],
 "metadata": {
  "kernelspec": {
   "display_name": "Python 3",
   "language": "python",
   "name": "python3"
  },
  "language_info": {
   "codemirror_mode": {
    "name": "ipython",
    "version": 3
   },
   "file_extension": ".py",
   "mimetype": "text/x-python",
   "name": "python",
   "nbconvert_exporter": "python",
   "pygments_lexer": "ipython3",
   "version": "3.9.7"
  }
 },
 "nbformat": 4,
 "nbformat_minor": 5
}
